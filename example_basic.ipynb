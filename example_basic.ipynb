{
 "cells": [
  {
   "cell_type": "markdown",
   "metadata": {},
   "source": [
    "# Podstawowe pojęcia\n"
   ]
  },
  {
   "cell_type": "markdown",
   "metadata": {},
   "source": [
    "## Kompozycja funkcji"
   ]
  },
  {
   "cell_type": "code",
   "execution_count": null,
   "metadata": {},
   "outputs": [],
   "source": [
    "from utils import compose\n",
    "\n",
    "def add1(x: float): return x + 1\n",
    "def subtract5(x: float): return x - 5\n",
    "def multiply2(x: float): return x * 2\n",
    "\n",
    "add1_then_multiply2_then_subtract5 = compose(add1, multiply2, subtract5, str)\n",
    "add1_then_multiply2_then_subtract5(2)"
   ]
  },
  {
   "cell_type": "markdown",
   "metadata": {},
   "source": [
    "## Funkcje wyższego rzędu"
   ]
  },
  {
   "cell_type": "code",
   "execution_count": null,
   "metadata": {},
   "outputs": [],
   "source": [
    "def add(x: float):\n",
    "    def adder(y: float):\n",
    "        return x + y\n",
    "    return adder\n",
    "\n",
    "add1 = add(1)\n",
    "print(add1(2))\n",
    "\n",
    "# wbudowana funkcja map jest też wyższego rzędu\n",
    "# ponieważ przyjmuje inną funkcję jako jeden z argumentów\n",
    "list(map(add1, [1, 2, 3]))"
   ]
  },
  {
   "cell_type": "markdown",
   "metadata": {},
   "source": [
    "## Currying"
   ]
  },
  {
   "cell_type": "code",
   "execution_count": null,
   "metadata": {},
   "outputs": [],
   "source": [
    "from utils import curry\n",
    "\n",
    "@curry\n",
    "def add(x: float, y: float):\n",
    "    return x + y\n",
    "\n",
    "add1 = add(1)\n",
    "add1(2)"
   ]
  }
 ],
 "metadata": {
  "interpreter": {
   "hash": "0471cac0f7693ce3c9e28ca5c7c370a86351fcfe238e48699d82058d798cd206"
  },
  "kernelspec": {
   "display_name": "Python 3.10.0a6 64-bit ('3.10.0a6': pyenv)",
   "language": "python",
   "name": "python3"
  },
  "language_info": {
   "codemirror_mode": {
    "name": "ipython",
    "version": 3
   },
   "file_extension": ".py",
   "mimetype": "text/x-python",
   "name": "python",
   "nbconvert_exporter": "python",
   "pygments_lexer": "ipython3",
   "version": "3.10.0a6"
  },
  "orig_nbformat": 4
 },
 "nbformat": 4,
 "nbformat_minor": 2
}
