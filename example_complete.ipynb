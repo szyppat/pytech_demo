{
 "cells": [
  {
   "cell_type": "markdown",
   "metadata": {},
   "source": [
    "## Kompletny przykład\n",
    "### Przykładowy wycinek aplikacji wykonującej podsumowanie transakcji pobranych z jakiegoś źródła zewnętrznego"
   ]
  },
  {
   "cell_type": "markdown",
   "metadata": {},
   "source": [
    "### Klient bazodanowy"
   ]
  },
  {
   "cell_type": "code",
   "execution_count": null,
   "metadata": {},
   "outputs": [],
   "source": [
    "from __future__ import annotations\n",
    "from typing import List\n",
    "from decimal import Decimal\n",
    "from dataclasses import dataclass\n",
    "from enum import Enum\n",
    "\n",
    "from reader import Reader\n",
    "from utils import cmap, cfilter, pipe\n",
    "from base import DomainError\n",
    "import result\n",
    "\n",
    "\n",
    "@dataclass\n",
    "class DbClient:\n",
    "    dummy_transactions: List[tuple]\n",
    "\n",
    "    def get_transactions(self) -> result.Result[List[tuple], str]:\n",
    "        # Tutaj w realnej aplikacji potrencjalnie mógłby wystąpić jakiś błąd - zwrócony zostałby wtedy Error\n",
    "        return result.Ok(self.dummy_transactions)"
   ]
  },
  {
   "cell_type": "markdown",
   "metadata": {},
   "source": [
    "### Definicja dziedziny"
   ]
  },
  {
   "cell_type": "code",
   "execution_count": null,
   "metadata": {},
   "outputs": [],
   "source": [
    "@dataclass(frozen=True, repr=False)\n",
    "class ValidationError(DomainError): pass\n",
    "\n",
    "@dataclass(frozen=True)\n",
    "class Transaction:\n",
    "    @dataclass(frozen=True)\n",
    "    class Id:\n",
    "        value: str\n",
    "\n",
    "        @staticmethod\n",
    "        @result.from_generator\n",
    "        def create(value: str) -> result.Result[Transaction.Id, ValidationError]:\n",
    "            if not value.startswith(\"#\"):\n",
    "                return ValidationError.create(\"Id should start with #\")\n",
    "            return value\n",
    "\n",
    "    class Type(Enum):\n",
    "        CASH = 'CASH'\n",
    "        CARD = 'CARD'\n",
    "\n",
    "        @staticmethod\n",
    "        @result.from_generator\n",
    "        def create(_type: str) -> result.Result[Transaction.Type, ValidationError]:\n",
    "            try:\n",
    "                return Transaction.Type[_type]\n",
    "            except KeyError:\n",
    "                return ValidationError.create(f\"Invalid type of transaction given: {_type}\")\n",
    "\n",
    "    id: Transaction.Id\n",
    "    value: Decimal\n",
    "    type: Transaction.Type\n",
    "\n",
    "    @staticmethod\n",
    "    @result.from_generator\n",
    "    def create(_id: str, value: Decimal, _type: str) -> result.Result[Transaction, ValidationError]:\n",
    "        t_id, t_type = yield result.aggregate([\n",
    "            Transaction.Id.create(_id),\n",
    "            Transaction.Type.create(_type)\n",
    "        ]).flat_map_error(ValidationError.join_errors(\n",
    "            \"Transaction validation errors. \"\n",
    "            f\"Raw data (id={_id!r}, value={value!r}, type={_type!r})\"\n",
    "        ))\n",
    "        return Transaction(t_id, value, t_type)\n"
   ]
  },
  {
   "cell_type": "markdown",
   "metadata": {},
   "source": [
    "### Utworzenie procesu zawierającego logikę aplikacji\n",
    "**To jest kod definiowany w obszarze logiki biznesowej.  \n",
    "Na tym etapie wszystkie funkcje są czyste, nieświadome zależności i gotowe na obsługę błędów powstałych w trakcie wykonania**"
   ]
  },
  {
   "cell_type": "code",
   "execution_count": null,
   "metadata": {},
   "outputs": [],
   "source": [
    "@Reader.create\n",
    "def fetch_transactions(trans_type: str):\n",
    "    db_client = yield lambda env: env[\"db_client\"]\n",
    "    return (\n",
    "        db_client.get_transactions()\n",
    "        | cmap(lambda trans_data: Transaction.create(*trans_data))\n",
    "        | result.aggregate()\n",
    "        | cfilter(lambda t: t.type == Transaction.Type[trans_type])\n",
    "        | list\n",
    "    )\n",
    "\n",
    "def summarize(transactions: List[Transaction]) -> str:\n",
    "    return pipe(\n",
    "        transactions,\n",
    "        cmap(lambda t: t.value),\n",
    "        sum,\n",
    "        (lambda value: f\"REPORT RESULT. TRANSACTION SUM IS: {value}\")\n",
    "    )\n",
    "\n",
    "complete_process = (\n",
    "    fetch_transactions(\"CASH\")\n",
    "    | result.flat_map(summarize)\n",
    "    | result.map_error(lambda e: f\"Could not produce report because of error: {e}\")\n",
    ")"
   ]
  },
  {
   "cell_type": "markdown",
   "metadata": {},
   "source": [
    "### Uruchomienie procesu\n",
    "**W górnych warstwach aplikacji, gdzie dostępne są zależności wymagane przez proces,  \n",
    "tworzony jest obiekt środowiska i podawany do procesu, co powoduje jego uruchomienie  \n",
    "Na koniec badany jest wynik działania procesu przez dopasowanie do obu wariantów**"
   ]
  },
  {
   "cell_type": "code",
   "execution_count": null,
   "metadata": {},
   "outputs": [],
   "source": [
    "env = {\n",
    "    \"db_client\": DbClient([\n",
    "        (\"#1234\", Decimal(\"11.23\"), \"CASH\"),\n",
    "        # (\"1234\", Decimal(\"-12.34\"), \"PAYPAL\"),\n",
    "        (\"#1234\", Decimal(\"12.44\"), \"CASH\")\n",
    "    ])\n",
    "}\n",
    "process_result = complete_process.run(env)\n",
    "\n",
    "process_result.match(\n",
    "    lambda report: print(\"Process was successful.\", report),\n",
    "    lambda error: print(\"Process failed.\", error)\n",
    ")"
   ]
  }
 ],
 "metadata": {
  "interpreter": {
   "hash": "0471cac0f7693ce3c9e28ca5c7c370a86351fcfe238e48699d82058d798cd206"
  },
  "kernelspec": {
   "display_name": "Python 3.10.0a6 64-bit ('3.10.0a6': pyenv)",
   "language": "python",
   "name": "python3"
  },
  "language_info": {
   "codemirror_mode": {
    "name": "ipython",
    "version": 3
   },
   "file_extension": ".py",
   "mimetype": "text/x-python",
   "name": "python",
   "nbconvert_exporter": "python",
   "pygments_lexer": "ipython3",
   "version": "3.10.0"
  },
  "orig_nbformat": 4
 },
 "nbformat": 4,
 "nbformat_minor": 2
}
