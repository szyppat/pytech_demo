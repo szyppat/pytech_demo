{
 "cells": [
  {
   "cell_type": "markdown",
   "metadata": {},
   "source": [
    "# Monada Reader"
   ]
  },
  {
   "cell_type": "markdown",
   "metadata": {},
   "source": [
    "- ### Pozwala na opóźnienie podania wybranych parametrów do momentu uruchomienia\n",
    "- ### Służy do wstrzykiwania zależności do czystych funkcji"
   ]
  },
  {
   "cell_type": "markdown",
   "metadata": {},
   "source": [
    "## Podstawowy przykład"
   ]
  },
  {
   "cell_type": "code",
   "execution_count": null,
   "metadata": {},
   "outputs": [],
   "source": [
    "from datetime import datetime\n",
    "from reader import Reader\n",
    "\n",
    "# Operacja w obszarze logiki biznesowej aplikacji\n",
    "# na tym etapie nie mamy (albo nie chcemy mieć)\n",
    "# dostępu do zależności których ta funkcja potrzebuje\n",
    "@Reader.create\n",
    "def do_something_basic(value: int) -> int:\n",
    "    multiplier = yield lambda env: env[\"multiplier\"]\n",
    "    logger = yield lambda env: env[\"logger\"]\n",
    "    output = value * multiplier\n",
    "    logger(f\"Wynik: {output}\")\n",
    "    return output\n",
    "\n",
    "# \"Wywołanie\" funkcji, z pominięciem zależności.\n",
    "# W rzeczywistości uruchomi się później, dopiero gdy dostarczymy zależności\n",
    "output_reader = do_something_basic(5)\n",
    "\n",
    "# =======================================================\n",
    "# Gdzieś w górnej warstwie aplikacji, na etapie montowania aplikacji\n",
    "# gdzie mamy dostęp do wszystkich potrzebnych zależności\n",
    "\n",
    "env = {\n",
    "    \"multiplier\": 10,\n",
    "    \"logger\": lambda msg: print(datetime.now().isoformat(), \"|\", msg)\n",
    "}\n",
    "\n",
    "# Wstrzyknięcie zależności w funkcję, co powoduje jej uruchomienie\n",
    "output_reader.run(env)"
   ]
  },
  {
   "cell_type": "markdown",
   "metadata": {},
   "source": [
    "## Kompozycja i potoki danych"
   ]
  },
  {
   "cell_type": "code",
   "execution_count": null,
   "metadata": {},
   "outputs": [],
   "source": [
    "from utils import curry\n",
    "\n",
    "@Reader.create\n",
    "@curry\n",
    "def do_something_complex(base_value: int, divisor: int) -> str:\n",
    "    value = yield do_something_basic(base_value)\n",
    "    final_value = value / divisor\n",
    "    return f\"Ostateczna wartość: {final_value}\"\n",
    "\n",
    "@Reader.create\n",
    "def log_and_forward(value):\n",
    "    logger = yield lambda env: env[\"logger\"]\n",
    "    logger(f\"Zalogowana wartość: {value}\")\n",
    "    return value\n",
    "\n",
    "# Zbudowanie potoku przepuszczającego wynik pierwszej funkcji\n",
    "# przez dwie następne funkcje, na wzór potoku w powłoce systemów *nix\n",
    "complex_output_reader = (\n",
    "    do_something_complex(6, 10)\n",
    "    | (lambda text: text.upper())\n",
    "    | log_and_forward\n",
    ")\n",
    "\n",
    "# Uruchomienie potoku przez podanie zależności\n",
    "complex_output_reader.run(env)\n"
   ]
  },
  {
   "cell_type": "code",
   "execution_count": null,
   "metadata": {},
   "outputs": [],
   "source": [
    "# Alternatywna implementacja wykorzystając kompozycję podstawowych Reader-ów,\n",
    "# przed podaniem bardziej złożonego Reader-a do potoku\n",
    "upper_log_and_forward = (\n",
    "    Reader.create(lambda text: \"PIPE[\" + text.upper() + \"]\")\n",
    "    >> log_and_forward\n",
    ")\n",
    "\n",
    "complex_output_reader = (\n",
    "    do_something_complex(6, 10)\n",
    "    | upper_log_and_forward\n",
    ")\n",
    "\n",
    "complex_output_reader.run(env)"
   ]
  }
 ],
 "metadata": {
  "interpreter": {
   "hash": "0471cac0f7693ce3c9e28ca5c7c370a86351fcfe238e48699d82058d798cd206"
  },
  "kernelspec": {
   "display_name": "Python 3.10.0a6 64-bit ('3.10.0a6': pyenv)",
   "language": "python",
   "name": "python3"
  },
  "language_info": {
   "codemirror_mode": {
    "name": "ipython",
    "version": 3
   },
   "file_extension": ".py",
   "mimetype": "text/x-python",
   "name": "python",
   "nbconvert_exporter": "python",
   "pygments_lexer": "ipython3",
   "version": "3.10.0a6"
  },
  "orig_nbformat": 4
 },
 "nbformat": 4,
 "nbformat_minor": 2
}
