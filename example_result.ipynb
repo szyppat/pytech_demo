{
 "cells": [
  {
   "cell_type": "markdown",
   "metadata": {},
   "source": [
    "## Monada Result\n",
    "- ### Funkcyjna alternatywa dla wyjątków\n",
    "- ### Służy do wyrażania i traktowania niepowodzenia w aplikacji w postaci zwykłej wartości\n",
    "- ### W przeciwieństwie do wyjątków jest jawne, zmuszając tym samym programistę do obsługi porażki\n",
    "- ### W niektórych językach istnieje również pod nazwą Try, z wariantami Success i Failure\n",
    "\n",
    "### Abstrakcyjny typ Result ma dwa warianty:\n",
    "- ### Ok - reprezentujący wartość pochodzącą z operacji która się powiodła\n",
    "- ### Error - reprezentujący błąd powstały w trakcie wykonywania operacji - odpowednik wyjątku"
   ]
  },
  {
   "cell_type": "markdown",
   "metadata": {},
   "source": [
    "## Podstawowy przykład"
   ]
  },
  {
   "cell_type": "markdown",
   "metadata": {},
   "source": [
    "### Bez użycia Result"
   ]
  },
  {
   "cell_type": "code",
   "execution_count": null,
   "metadata": {},
   "outputs": [],
   "source": [
    "def divide(x: float, y: float) -> float:\n",
    "    return x / y\n",
    "\n",
    "value_pairs = [(3, 2), (1, 0), (3.1, 0.0), (0, 3)]\n",
    "\n",
    "divided_results = [divide(x, y) for x, y in value_pairs]\n",
    "divided_results"
   ]
  },
  {
   "cell_type": "markdown",
   "metadata": {},
   "source": [
    "### Używając Result"
   ]
  },
  {
   "cell_type": "code",
   "execution_count": null,
   "metadata": {},
   "outputs": [],
   "source": [
    "import result\n",
    "from result import Result, Error, Ok\n",
    "\n",
    "def divide(x: float, y: float) -> Result[float, str]:\n",
    "    if y == 0:\n",
    "        return Error(\"Divisor cannot be 0\")\n",
    "    return Ok(x / y)\n",
    "\n",
    "value_pairs = [(3, 2), (1, 0), (3.1, 0.0), (0, 3)]\n",
    "\n",
    "divided_results = [divide(x, y) for x, y in value_pairs]\n",
    "divided_results"
   ]
  },
  {
   "cell_type": "markdown",
   "metadata": {},
   "source": [
    "## Agregacja"
   ]
  },
  {
   "cell_type": "code",
   "execution_count": null,
   "metadata": {},
   "outputs": [],
   "source": [
    "from typing import List\n",
    "import result\n",
    "from result import Result, Error, Ok\n",
    "\n",
    "def divide(x: float, y: float) -> Result[float, List[str]]:\n",
    "    if y == 0:\n",
    "        return Error([\"Divisor cannot be 0\"])\n",
    "    return Ok(x / y)\n",
    "\n",
    "# value_pairs = [(3, 2), (1, 0), (3.1, 0), (0, 3)]\n",
    "value_pairs = [(3, 2), (1, 1), (3.1, 0.1), (0, 3)]\n",
    "\n",
    "divided_results = [divide(x, y) for x, y in value_pairs]\n",
    "print(divided_results)\n",
    "\n",
    "agg = result.aggregate(divided_results)\n",
    "agg"
   ]
  },
  {
   "cell_type": "markdown",
   "metadata": {},
   "source": [
    "## Złożony przykład"
   ]
  },
  {
   "cell_type": "code",
   "execution_count": null,
   "metadata": {},
   "outputs": [],
   "source": [
    "divide_with_context = lambda x, y: divide(x, y).map_error(lambda e: [f\"DZIELENIE {x}/{y}: {e[0]}\"])\n",
    "\n",
    "@result.from_generator\n",
    "def divide_and_report(x1, y1, x2, y2):\n",
    "    divided_1 = yield divide_with_context(x1, y1)\n",
    "    divided_2 = yield divide_with_context(x2, y2)\n",
    "    return f\"PODSUMOWANIE: {divided_1}, {divided_2}\"\n",
    "\n",
    "divide_and_report(3, 1, 2, 1)"
   ]
  },
  {
   "cell_type": "code",
   "execution_count": null,
   "metadata": {},
   "outputs": [],
   "source": [
    "divide_with_context = lambda x, y: divide(x, y).map_error(lambda e: [f\"DZIELENIE {x}/{y}: {e[0]}\"])\n",
    "\n",
    "@result.from_generator\n",
    "def divide_and_report_aggregate(x1, y1, x2, y2):\n",
    "    divided_1, divided_2 = yield result.aggregate([\n",
    "        divide_with_context(x1, y1),\n",
    "        divide_with_context(x2, y2)\n",
    "    ])\n",
    "    return f\"PODSUMOWANIE: {divided_1}, {divided_2}\"\n",
    "\n",
    "divide_and_report_aggregate(3, 1, 2, 1)"
   ]
  },
  {
   "cell_type": "markdown",
   "metadata": {},
   "source": [
    "## Rozpakowywanie wartości z Result\n"
   ]
  },
  {
   "cell_type": "markdown",
   "metadata": {},
   "source": [
    "### [Bezpieczne] result_var.match - wymaga obsługi obu przypadków\n"
   ]
  },
  {
   "cell_type": "code",
   "execution_count": null,
   "metadata": {},
   "outputs": [],
   "source": [
    "# value = Ok(42)\n",
    "value = Error(\"tragedia\")\n",
    "\n",
    "unpacked_value = value.match(\n",
    "    lambda ok_val: f\"Wartość jest ok: {ok_val}\",\n",
    "    lambda error_val: f\"Wartość jest błędna: {error_val}\",\n",
    ")\n",
    "unpacked_value"
   ]
  },
  {
   "cell_type": "markdown",
   "metadata": {},
   "source": [
    "### [Bezpieczne] map/flat_map/yield - kontynuacja działania wewnątrz monady\n"
   ]
  },
  {
   "cell_type": "code",
   "execution_count": null,
   "metadata": {},
   "outputs": [],
   "source": [
    "value = Ok(42)\n",
    "# value = Error(\"tragedia\")\n",
    "\n",
    "print(value.map_ok(lambda x: x + 58))\n",
    "\n",
    "def continuation_fn(x):\n",
    "    if x != 42:\n",
    "        return Ok(x + 58)\n",
    "    else:\n",
    "        return Error(\"x nie może być równe 42\")\n",
    "\n",
    "print(value.flat_map(continuation_fn))"
   ]
  },
  {
   "cell_type": "markdown",
   "metadata": {},
   "source": [
    "### [Niebezpieczne] result_var.try_get() - rozpakowanie \"na siłę\", rzuca wyjątek gdy result_var jest typu Error"
   ]
  },
  {
   "cell_type": "code",
   "execution_count": null,
   "metadata": {},
   "outputs": [],
   "source": [
    "# value = Ok(42)\n",
    "value = Error(\"tragedia\")\n",
    "\n",
    "value.try_get()"
   ]
  }
 ],
 "metadata": {
  "interpreter": {
   "hash": "0471cac0f7693ce3c9e28ca5c7c370a86351fcfe238e48699d82058d798cd206"
  },
  "kernelspec": {
   "display_name": "Python 3.10.0a6 64-bit ('3.10.0a6': pyenv)",
   "language": "python",
   "name": "python3"
  },
  "language_info": {
   "codemirror_mode": {
    "name": "ipython",
    "version": 3
   },
   "file_extension": ".py",
   "mimetype": "text/x-python",
   "name": "python",
   "nbconvert_exporter": "python",
   "pygments_lexer": "ipython3",
   "version": "3.10.0a6"
  },
  "orig_nbformat": 4
 },
 "nbformat": 4,
 "nbformat_minor": 2
}
